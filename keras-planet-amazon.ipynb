{
 "cells": [
  {
   "cell_type": "code",
   "execution_count": 1,
   "metadata": {
    "collapsed": true
   },
   "outputs": [],
   "source": [
    "IMG_PATH = '/data/amazon/train-jpg/'\n",
    "IMG_EXT = '.jpg'\n",
    "TRAIN_DATA = '/data/amazon/train_v2.csv'\n",
    "SIZE = (64, 64)"
   ]
  },
  {
   "cell_type": "code",
   "execution_count": 2,
   "metadata": {},
   "outputs": [
    {
     "name": "stderr",
     "output_type": "stream",
     "text": [
      "Using TensorFlow backend.\n"
     ]
    }
   ],
   "source": [
    "import os\n",
    "import gc # garbage collection\n",
    "import bcolz\n",
    "import cv2 \n",
    "import numpy as np; import pandas as pd; import seaborn as sns\n",
    "import matplotlib.pyplot as plt; import matplotlib.image as mpimg\n",
    "import tensorflow as tf\n",
    "from keras.models import Sequential\n",
    "from keras.layers import *\n",
    "from keras.optimizers import Adam\n",
    "from keras.callbacks import ModelCheckpoint, EarlyStopping, ReduceLROnPlateau, History\n",
    "# import vgg16\n",
    "# import data_helper\n",
    "# from data_helper import AmazonPreprocessor\n",
    "# from kaggle_data.downloader import KaggleDataDownloader\n",
    "from tqdm import tqdm"
   ]
  },
  {
   "cell_type": "code",
   "execution_count": 45,
   "metadata": {
    "collapsed": true
   },
   "outputs": [],
   "source": [
    "x = []; y = []\n",
    "df_train = pd.read_csv(TRAIN_DATA)"
   ]
  },
  {
   "cell_type": "code",
   "execution_count": 46,
   "metadata": {},
   "outputs": [
    {
     "name": "stderr",
     "output_type": "stream",
     "text": [
      "100%|██████████| 40479/40479 [00:53<00:00, 754.87it/s]\n"
     ]
    },
    {
     "name": "stdout",
     "output_type": "stream",
     "text": [
      "(40479, 64, 64, 3)\n",
      "(40479, 17)\n"
     ]
    }
   ],
   "source": [
    "flatten = lambda l: [item for sublist in l for item in sublist]\n",
    "labels = list(set(flatten([l.split(' ') for l in df_train['tags'].values])))\n",
    "\n",
    "label_map = {l: i for i, l in enumerate(labels)}\n",
    "inv_label_map = {i: l for l, i in label_map.items()}\n",
    "\n",
    "for f, tags in tqdm(df_train.values, miniters=1000):\n",
    "    img = cv2.imread(f'{IMG_PATH}{f}{IMG_EXT}')\n",
    "    targets = np.zeros(17)\n",
    "    for t in tags.split(' '):\n",
    "        targets[label_map[t]] = 1 \n",
    "    x.append(cv2.resize(img, SIZE))\n",
    "    y.append(targets)\n",
    "    \n",
    "y = np.array(y, np.uint8)\n",
    "x = np.array(x, np.float16) / 255.\n",
    "\n",
    "print(x.shape)\n",
    "print(y.shape)"
   ]
  },
  {
   "cell_type": "code",
   "execution_count": 47,
   "metadata": {},
   "outputs": [
    {
     "data": {
      "text/plain": [
       "(40479, 64, 64, 3)"
      ]
     },
     "execution_count": 47,
     "metadata": {},
     "output_type": "execute_result"
    }
   ],
   "source": [
    "x.shape"
   ]
  },
  {
   "cell_type": "code",
   "execution_count": 49,
   "metadata": {
    "scrolled": true
   },
   "outputs": [
    {
     "name": "stdout",
     "output_type": "stream",
     "text": [
      "Train on 20000 samples, validate on 20479 samples\n",
      "Epoch 1/50\n",
      "20000/20000 [==============================] - 11s - loss: 0.2705 - acc: 0.8974 - val_loss: 0.2151 - val_acc: 0.9149\n",
      "Epoch 2/50\n",
      "20000/20000 [==============================] - 11s - loss: 0.2170 - acc: 0.9155 - val_loss: 0.1921 - val_acc: 0.9228\n",
      "Epoch 3/50\n",
      "20000/20000 [==============================] - 10s - loss: 0.2010 - acc: 0.9215 - val_loss: 0.1819 - val_acc: 0.9279\n",
      "Epoch 4/50\n",
      "20000/20000 [==============================] - 10s - loss: 0.1931 - acc: 0.9245 - val_loss: 0.1779 - val_acc: 0.9284\n",
      "Epoch 5/50\n",
      "20000/20000 [==============================] - 11s - loss: 0.1848 - acc: 0.9273 - val_loss: 0.1698 - val_acc: 0.9332\n",
      "Epoch 6/50\n",
      "20000/20000 [==============================] - 10s - loss: 0.1785 - acc: 0.9306 - val_loss: 0.1717 - val_acc: 0.9300\n",
      "Epoch 7/50\n",
      "20000/20000 [==============================] - 10s - loss: 0.1750 - acc: 0.9315 - val_loss: 0.1665 - val_acc: 0.9344\n",
      "Epoch 8/50\n",
      "20000/20000 [==============================] - 10s - loss: 0.1712 - acc: 0.9332 - val_loss: 0.1625 - val_acc: 0.9352\n",
      "Epoch 9/50\n",
      "20000/20000 [==============================] - 11s - loss: 0.1676 - acc: 0.9343 - val_loss: 0.1609 - val_acc: 0.9368\n",
      "Epoch 10/50\n",
      "20000/20000 [==============================] - 10s - loss: 0.1653 - acc: 0.9348 - val_loss: 0.1657 - val_acc: 0.9347\n",
      "Epoch 11/50\n",
      "20000/20000 [==============================] - 11s - loss: 0.1608 - acc: 0.9363 - val_loss: 0.1568 - val_acc: 0.9377\n",
      "Epoch 12/50\n",
      "20000/20000 [==============================] - 11s - loss: 0.1582 - acc: 0.9370 - val_loss: 0.1704 - val_acc: 0.9314\n",
      "Epoch 13/50\n",
      "20000/20000 [==============================] - 11s - loss: 0.1603 - acc: 0.9357 - val_loss: 0.1575 - val_acc: 0.9382\n",
      "Epoch 14/50\n",
      "20000/20000 [==============================] - 10s - loss: 0.1521 - acc: 0.9390 - val_loss: 0.1568 - val_acc: 0.9382\n",
      "Epoch 15/50\n",
      "20000/20000 [==============================] - 11s - loss: 0.1498 - acc: 0.9395 - val_loss: 0.1568 - val_acc: 0.9377\n",
      "Epoch 16/50\n",
      "20000/20000 [==============================] - 10s - loss: 0.1460 - acc: 0.9410 - val_loss: 0.1540 - val_acc: 0.9393\n",
      "Epoch 17/50\n",
      "20000/20000 [==============================] - 10s - loss: 0.1427 - acc: 0.9421 - val_loss: 0.1565 - val_acc: 0.9393\n",
      "Epoch 18/50\n",
      "20000/20000 [==============================] - 11s - loss: 0.1417 - acc: 0.9423 - val_loss: 0.1587 - val_acc: 0.9386\n",
      "Epoch 19/50\n",
      "20000/20000 [==============================] - 10s - loss: 0.1367 - acc: 0.9438 - val_loss: 0.1601 - val_acc: 0.9388\n",
      "Epoch 20/50\n",
      "20000/20000 [==============================] - 10s - loss: 0.1345 - acc: 0.9450 - val_loss: 0.1550 - val_acc: 0.9397\n",
      "Epoch 21/50\n",
      "20000/20000 [==============================] - 10s - loss: 0.1316 - acc: 0.9454 - val_loss: 0.1578 - val_acc: 0.9397\n",
      "Epoch 22/50\n",
      "20000/20000 [==============================] - 11s - loss: 0.1297 - acc: 0.9460 - val_loss: 0.1589 - val_acc: 0.9388\n",
      "Epoch 23/50\n",
      "20000/20000 [==============================] - 11s - loss: 0.1267 - acc: 0.9474 - val_loss: 0.1571 - val_acc: 0.9399\n",
      "Epoch 24/50\n",
      "20000/20000 [==============================] - 11s - loss: 0.1241 - acc: 0.9482 - val_loss: 0.1634 - val_acc: 0.9395\n",
      "Epoch 25/50\n",
      "20000/20000 [==============================] - 10s - loss: 0.1204 - acc: 0.9489 - val_loss: 0.1668 - val_acc: 0.9380\n",
      "Epoch 26/50\n",
      "20000/20000 [==============================] - 11s - loss: 0.1193 - acc: 0.9500 - val_loss: 0.1653 - val_acc: 0.9398\n",
      "Epoch 27/50\n",
      "20000/20000 [==============================] - 11s - loss: 0.1154 - acc: 0.9511 - val_loss: 0.1732 - val_acc: 0.9389\n",
      "Epoch 28/50\n",
      "20000/20000 [==============================] - 11s - loss: 0.1134 - acc: 0.9522 - val_loss: 0.1767 - val_acc: 0.9385\n",
      "Epoch 29/50\n",
      "20000/20000 [==============================] - 10s - loss: 0.1105 - acc: 0.9527 - val_loss: 0.1792 - val_acc: 0.9385\n",
      "Epoch 30/50\n",
      "20000/20000 [==============================] - 10s - loss: 0.1087 - acc: 0.9537 - val_loss: 0.1724 - val_acc: 0.9388\n",
      "Epoch 31/50\n",
      "20000/20000 [==============================] - 10s - loss: 0.1071 - acc: 0.9543 - val_loss: 0.1733 - val_acc: 0.9398\n",
      "Epoch 32/50\n",
      "20000/20000 [==============================] - 11s - loss: 0.1031 - acc: 0.9558 - val_loss: 0.1790 - val_acc: 0.9399\n",
      "Epoch 33/50\n",
      "20000/20000 [==============================] - 10s - loss: 0.1012 - acc: 0.9566 - val_loss: 0.1860 - val_acc: 0.9398\n",
      "Epoch 34/50\n",
      "20000/20000 [==============================] - 10s - loss: 0.0998 - acc: 0.9568 - val_loss: 0.1844 - val_acc: 0.9398\n",
      "Epoch 35/50\n",
      "20000/20000 [==============================] - 10s - loss: 0.0987 - acc: 0.9577 - val_loss: 0.1828 - val_acc: 0.9400\n",
      "Epoch 36/50\n",
      "20000/20000 [==============================] - 10s - loss: 0.0952 - acc: 0.9586 - val_loss: 0.1820 - val_acc: 0.9395\n",
      "Epoch 37/50\n",
      "20000/20000 [==============================] - 10s - loss: 0.0945 - acc: 0.9588 - val_loss: 0.1850 - val_acc: 0.9390\n",
      "Epoch 38/50\n",
      "20000/20000 [==============================] - 11s - loss: 0.0936 - acc: 0.9593 - val_loss: 0.1907 - val_acc: 0.9392\n",
      "Epoch 39/50\n",
      "20000/20000 [==============================] - 10s - loss: 0.0928 - acc: 0.9593 - val_loss: 0.1888 - val_acc: 0.9398\n",
      "Epoch 40/50\n",
      "20000/20000 [==============================] - 11s - loss: 0.0894 - acc: 0.9607 - val_loss: 0.1891 - val_acc: 0.9395\n",
      "Epoch 41/50\n",
      "20000/20000 [==============================] - 11s - loss: 0.0873 - acc: 0.9619 - val_loss: 0.2099 - val_acc: 0.9390\n",
      "Epoch 42/50\n",
      "20000/20000 [==============================] - 11s - loss: 0.0872 - acc: 0.9617 - val_loss: 0.1942 - val_acc: 0.9391\n",
      "Epoch 43/50\n",
      "20000/20000 [==============================] - 11s - loss: 0.0853 - acc: 0.9626 - val_loss: 0.2094 - val_acc: 0.9395\n",
      "Epoch 44/50\n",
      "20000/20000 [==============================] - 10s - loss: 0.0841 - acc: 0.9628 - val_loss: 0.2064 - val_acc: 0.9394\n",
      "Epoch 45/50\n",
      "20000/20000 [==============================] - 11s - loss: 0.0840 - acc: 0.9630 - val_loss: 0.2010 - val_acc: 0.9385\n",
      "Epoch 46/50\n",
      "20000/20000 [==============================] - 10s - loss: 0.0815 - acc: 0.9645 - val_loss: 0.2085 - val_acc: 0.9386\n",
      "Epoch 47/50\n",
      "20000/20000 [==============================] - 10s - loss: 0.0802 - acc: 0.9647 - val_loss: 0.2380 - val_acc: 0.9297\n",
      "Epoch 48/50\n",
      "20000/20000 [==============================] - 11s - loss: 0.0830 - acc: 0.9634 - val_loss: 0.2128 - val_acc: 0.9390\n",
      "Epoch 49/50\n",
      "20000/20000 [==============================] - 10s - loss: 0.0795 - acc: 0.9647 - val_loss: 0.2186 - val_acc: 0.9395\n",
      "Epoch 50/50\n",
      "20000/20000 [==============================] - 11s - loss: 0.0769 - acc: 0.9658 - val_loss: 0.2194 - val_acc: 0.9400\n"
     ]
    },
    {
     "data": {
      "text/plain": [
       "<keras.callbacks.History at 0x7fa0168208d0>"
      ]
     },
     "execution_count": 49,
     "metadata": {},
     "output_type": "execute_result"
    }
   ],
   "source": [
    "split = 20000\n",
    "x_train, x_valid = x[:split], x[split:] \n",
    "y_train, y_valid = y[:split], y[split:]\n",
    "\n",
    "model = Sequential()\n",
    "model.add(Conv2D(32, kernel_size=(3, 3), activation='relu', input_shape=(64, 64, 3)))\n",
    "model.add(Conv2D(64, (3, 3), activation='relu'))\n",
    "model.add(MaxPooling2D(pool_size=(2, 2)))\n",
    "model.add(Dropout(0.25))\n",
    "model.add(Flatten())\n",
    "model.add(Dense(128, activation='relu'))\n",
    "model.add(Dropout(0.5))\n",
    "model.add(Dense(17, activation='sigmoid'))\n",
    "model.compile(loss='binary_crossentropy', optimizer='adam', metrics=['accuracy'])\n",
    "model.fit(x_train, y_train,\n",
    "          batch_size=128, epochs=50, verbose=1,\n",
    "          validation_data=(x_valid, y_valid))"
   ]
  },
  {
   "cell_type": "code",
   "execution_count": 52,
   "metadata": {},
   "outputs": [
    {
     "name": "stdout",
     "output_type": "stream",
     "text": [
      "0.854775001503\n"
     ]
    }
   ],
   "source": [
    "from sklearn.metrics import fbeta_score\n",
    "p_valid = model.predict(x_valid, batch_size=128)\n",
    "# print(y_valid)\n",
    "# print(p_valid)\n",
    "print(fbeta_score(y_valid, np.array(p_valid) > 0.2, beta=2, average='samples'))"
   ]
  },
  {
   "cell_type": "code",
   "execution_count": null,
   "metadata": {
    "collapsed": true
   },
   "outputs": [],
   "source": []
  },
  {
   "cell_type": "code",
   "execution_count": null,
   "metadata": {
    "collapsed": true
   },
   "outputs": [],
   "source": []
  }
 ],
 "metadata": {
  "kernelspec": {
   "display_name": "Python 3",
   "language": "python",
   "name": "python3"
  },
  "language_info": {
   "codemirror_mode": {
    "name": "ipython",
    "version": 3
   },
   "file_extension": ".py",
   "mimetype": "text/x-python",
   "name": "python",
   "nbconvert_exporter": "python",
   "pygments_lexer": "ipython3",
   "version": "3.6.2"
  }
 },
 "nbformat": 4,
 "nbformat_minor": 2
}
